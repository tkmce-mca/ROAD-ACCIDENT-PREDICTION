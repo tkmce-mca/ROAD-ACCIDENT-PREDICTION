{
 "cells": [
  {
   "cell_type": "code",
   "execution_count": 1,
   "metadata": {},
   "outputs": [],
   "source": [
    "import random\n",
    "\n",
    "a = []\n",
    "b = []\n",
    "c = []\n",
    "d = []\n",
    "\n",
    "#input the number of data to be generate in the dataset\n",
    "N = 1000\n",
    "\n",
    "for i in range(N):\n",
    "    a.append(random.randint(0,100))\n",
    "    b.append(random.randint(0,100))\n",
    "    c.append(random.randint(0,100))\n",
    "    d.append(random.randint(1,3))\n",
    "    \n",
    "#find the maximum element of each of the features    \n",
    "a_max = max(a)\n",
    "b_max = max(b)\n",
    "c_max = max(c)\n",
    "d_max = max(d)\n",
    "\n",
    "#normalize the database with the highest data (heighst value in list - each element) / heighst element \n",
    "a_norm = []\n",
    "b_norm = []\n",
    "c_norm = []\n",
    "d_norm = []\n",
    "\n",
    "for i in range(N):\n",
    "    a_norm.append(((a_max - a[i] if a[i] != a_max else a[i]) / a_max) * random.uniform(0,0.5))\n",
    "    b_norm.append(((b_max - b[i] if b[i] != b_max else b[i]) / b_max) * random.uniform(0,0.5))\n",
    "    c_norm.append(((c_max - c[i] if c[i] != c_max else c[i]) / c_max) * random.uniform(0,0.5))\n",
    "    d_norm.append(((d_max - d[i] if d[i] != d_max else d[i]) / d_max) * random.uniform(0,0.5))\n",
    "\n",
    "#write the variables to a csv file    \n",
    "f = open(\"road_data.csv\", \"w\")\n",
    "\n",
    "#write the cloumn headings to the database\n",
    "f.write(\"60to90,40to60,20to40,risk\\n\")\n",
    "\n",
    "for i in range(N):\n",
    "    s = a_norm[i] + b_norm[i] + c_norm[i] + d_norm[i]\n",
    "    \n",
    "    if s <= 0.5:\n",
    "        f.write(str(a_norm[i]) + ',' + str(b_norm[i]) + ','  + str(c_norm[i]) + ','  + str(d_norm[i])+ ','  + \"low\\n\")\n",
    "    elif s <= 0.7:   \n",
    "        f.write(str(a_norm[i]) + ',' + str(b_norm[i]) + ','  + str(c_norm[i]) + ','  + str(d_norm[i])+ ','  + \"medium\\n\")\n",
    "    else:\n",
    "        f.write(str(a_norm[i]) + ',' + str(b_norm[i]) + ','  + str(c_norm[i]) + ','  + str(d_norm[i])+ ','  + \"high\\n\")\n",
    "\n",
    "f.close()"
   ]
  },
  {
   "cell_type": "code",
   "execution_count": null,
   "metadata": {},
   "outputs": [],
   "source": []
  }
 ],
 "metadata": {
  "kernelspec": {
   "display_name": "Python 3",
   "language": "python",
   "name": "python3"
  },
  "language_info": {
   "codemirror_mode": {
    "name": "ipython",
    "version": 3
   },
   "file_extension": ".py",
   "mimetype": "text/x-python",
   "name": "python",
   "nbconvert_exporter": "python",
   "pygments_lexer": "ipython3",
   "version": "3.7.4"
  }
 },
 "nbformat": 4,
 "nbformat_minor": 4
}
